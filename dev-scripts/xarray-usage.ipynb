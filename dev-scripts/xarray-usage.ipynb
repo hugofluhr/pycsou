{
 "cells": [
  {
   "cell_type": "code",
   "execution_count": 33,
   "metadata": {},
   "outputs": [],
   "source": [
    "import os\n",
    "import os.path as op\n",
    "import tensorflow.experimental.numpy as tnp\n",
    "import numpy as np"
   ]
  },
  {
   "cell_type": "code",
   "execution_count": 2,
   "metadata": {},
   "outputs": [],
   "source": [
    "pycsou_path = \"/Users/hugofluhr/chuv/repositories/pycsou/src/pycsou\""
   ]
  },
  {
   "cell_type": "code",
   "execution_count": 3,
   "metadata": {},
   "outputs": [],
   "source": [
    "def get_python_files(dir_path):\n",
    "    python_files = []\n",
    "    for root, dirs, files in os.walk(pycsou_path):\n",
    "        for name in files:\n",
    "            if name.endswith((\".py\")):\n",
    "                file_path = op.join(root, name)\n",
    "                python_files.append(file_path)\n",
    "    return python_files\n",
    "\n",
    "def get_files_containing_string(files, string_to_find):\n",
    "    files_with_string = []\n",
    "    for file in files:\n",
    "        with open(file) as f:\n",
    "            if string_to_find in f.read() :\n",
    "                files_with_string.append(file)\n",
    "    return files_with_string"
   ]
  },
  {
   "cell_type": "code",
   "execution_count": 4,
   "metadata": {},
   "outputs": [],
   "source": [
    "python_files = get_python_files(pycsou_path)"
   ]
  },
  {
   "cell_type": "code",
   "execution_count": 5,
   "metadata": {},
   "outputs": [
    {
     "name": "stdout",
     "output_type": "stream",
     "text": [
      "8 files using xp. out of 21 python files\n"
     ]
    }
   ],
   "source": [
    "string_to_find = \"xp.\"\n",
    "files_using_xp = get_files_containing_string(python_files, string_to_find)\n",
    "\n",
    "print(f\"{len(files_using_xp)} files using {string_to_find} out of {len(python_files)} python files\")"
   ]
  },
  {
   "cell_type": "code",
   "execution_count": 6,
   "metadata": {},
   "outputs": [
    {
     "data": {
      "text/plain": [
       "['/Users/hugofluhr/chuv/repositories/pycsou/src/pycsou/util/deps.py',\n",
       " '/Users/hugofluhr/chuv/repositories/pycsou/src/pycsou/operator/linop/base.py']"
      ]
     },
     "execution_count": 6,
     "metadata": {},
     "output_type": "execute_result"
    }
   ],
   "source": [
    "get_files_containing_string(python_files, \"cp.\")"
   ]
  },
  {
   "cell_type": "code",
   "execution_count": 7,
   "metadata": {},
   "outputs": [
    {
     "data": {
      "text/plain": [
       "['/Users/hugofluhr/chuv/repositories/pycsou/src/pycsou/abc/operator.py',\n",
       " '/Users/hugofluhr/chuv/repositories/pycsou/src/pycsou/util/__init__.py',\n",
       " '/Users/hugofluhr/chuv/repositories/pycsou/src/pycsou/_dev/__init__.py',\n",
       " '/Users/hugofluhr/chuv/repositories/pycsou/src/pycsou/math/linalg.py',\n",
       " '/Users/hugofluhr/chuv/repositories/pycsou/src/pycsou/compound/__init__.py',\n",
       " '/Users/hugofluhr/chuv/repositories/pycsou/src/pycsou/opt/stop.py',\n",
       " '/Users/hugofluhr/chuv/repositories/pycsou/src/pycsou/opt/solver/cg.py',\n",
       " '/Users/hugofluhr/chuv/repositories/pycsou/src/pycsou/operator/linop/base.py']"
      ]
     },
     "execution_count": 7,
     "metadata": {},
     "output_type": "execute_result"
    }
   ],
   "source": [
    "files_using_xp"
   ]
  },
  {
   "cell_type": "code",
   "execution_count": 8,
   "metadata": {},
   "outputs": [],
   "source": [
    "xp_lines = []\n",
    "for file in files_using_xp :\n",
    "    with open(file) as f:\n",
    "        for num, line in enumerate(f, 1):\n",
    "            if \"xp.\" in line:\n",
    "                #print(f\"line {num} >>>\" + repr(line))\n",
    "                xp_lines.append(line)\n"
   ]
  },
  {
   "cell_type": "code",
   "execution_count": 9,
   "metadata": {},
   "outputs": [],
   "source": [
    "def find_parens(s):\n",
    "    toret = {}\n",
    "    pstack = []\n",
    "\n",
    "    for i, c in enumerate(s):\n",
    "        if c == '(':\n",
    "            pstack.append(i)\n",
    "        elif c == ')':\n",
    "            if len(pstack) == 0:\n",
    "                continue\n",
    "                #raise IndexError(\"No matching closing parens at: \" + str(i))\n",
    "            toret[pstack.pop()] = i\n",
    "\n",
    "    #if len(pstack) > 0:\n",
    "    #    raise IndexError(\"No matching opening parens at: \" + str(pstack.pop()))\n",
    "\n",
    "    return sorted(toret.items())"
   ]
  },
  {
   "cell_type": "code",
   "execution_count": 10,
   "metadata": {},
   "outputs": [],
   "source": [
    "def get_usage(line, module='xp.'):\n",
    "    from_module = line[line.index(module):]\n",
    "    parent_pairs = find_parens(from_module)\n",
    "    if not parent_pairs :\n",
    "        return{\"fct\":from_module[:from_module.index(\"\\n\")], \"args\":None}\n",
    "    else :\n",
    "        function = from_module[:parent_pairs[0][0]]\n",
    "        args = from_module[parent_pairs[0][0]:parent_pairs[0][1]+1]\n",
    "        return {\"fct\":function, \"args\":args}"
   ]
  },
  {
   "cell_type": "code",
   "execution_count": 11,
   "metadata": {},
   "outputs": [],
   "source": [
    "xp_usage = [get_usage(line) for line in xp_lines]"
   ]
  },
  {
   "cell_type": "code",
   "execution_count": 12,
   "metadata": {},
   "outputs": [
    {
     "data": {
      "text/plain": [
       "[{'fct': 'xp.linalg.norm',\n",
       "  'args': '(arr - self.prox(arr, tau=mu), axis=-1, keepdims=True)'},\n",
       " {'fct': 'xp.eye', 'args': '(self.shape[1], dtype=dtype)'},\n",
       " {'fct': 'xp.zeros', 'args': '((*sh_xf[:-1], y0.size), dtype=y0.dtype)'},\n",
       " {'fct': 'xp.linalg.norm', 'args': '(arr, axis=-1, keepdims=True)'},\n",
       " {'fct': 'xp.linalg.norm', 'args': '(arr, ord=1)'},\n",
       " {'fct': 'xp.clip', 'args': '(xp.abs(arr) - tau, a_min=0, a_max=None)'},\n",
       " {'fct': 'xp.swapaxes', 'args': '(arr, self.axis, -1)'},\n",
       " {'fct': 'xp.zeros_like', 'args': '(arr)'},\n",
       " {'fct': 'xp.swapaxes', 'args': '(arr, self.axis, -1)'},\n",
       " {'fct': 'xp.zeros_like', 'args': '(arr)'},\n",
       " {'fct': 'xp.swapaxes', 'args': '(arr, self.axis, -1)'},\n",
       " {'fct': 'xp.zeros_like', 'args': '(arr)'},\n",
       " {'fct': 'xp.swapaxes', 'args': '(arr, self.axis, -1)'},\n",
       " {'fct': 'xp.zeros_like', 'args': '(arr)'},\n",
       " {'fct': 'xp.swapaxes', 'args': '(arr, self.axis, -1)'},\n",
       " {'fct': 'xp.zeros_like', 'args': '(arr)'},\n",
       " {'fct': 'xp.swapaxes', 'args': '(arr, self.axis, -1)'},\n",
       " {'fct': 'xp.zeros_like', 'args': '(arr)'},\n",
       " {'fct': 'xp.asarray', 'args': '(sampling_bool)'},\n",
       " {'fct': 'xp.zeros',\n",
       "  'args': '((*arr.shape[:-1], self.input_size), dtype=arr.dtype)'},\n",
       " {'fct': 'xp.linalg', 'args': None},\n",
       " {'fct': 'xp.sum',\n",
       "  'args': '(xp.array([linop.apply(e)[i] for i, e in enumerate(xp.eye(d))]))'},\n",
       " {'fct': 'xp.asarray',\n",
       "  'args': '(rng.standard_normal(size=(d, (m + 2) // 4)))'},\n",
       " {'fct': 'xp.asarray',\n",
       "  'args': '(rng.binomial(n=1, p=0.5, size=(d, (m - 2) // 2)) * 2 - 1)'},\n",
       " {'fct': 'xp.trace', 'args': '(q.T @ linop.apply(q.T).T)'},\n",
       " {'fct': 'xp.concatenate', 'args': '(out_list, axis=-1)'},\n",
       " {'fct': 'xp.split', 'args': '(arr, xp.asarray(sections), axis=-1)'},\n",
       " {'fct': 'xp.stack', 'args': '(out_list, axis=0)'},\n",
       " {'fct': 'xp.split', 'args': '(arr, xp.asarray(sections))'},\n",
       " {'fct': 'xp.concatenate', 'args': '(out_list, axis=-1)'},\n",
       " {'fct': 'xp.linalg.norm',\n",
       "  'args': '(fx, ord=self._norm, axis=-1, keepdims=True)'},\n",
       " {'fct': 'xp.all if self._satisfy_all else xp.any', 'args': None},\n",
       " {'fct': 'xp.linalg.norm',\n",
       "  'args': '(_, ord=self._norm, axis=-1, keepdims=True)'},\n",
       " {'fct': 'xp.all if self._satisfy_all else xp.any', 'args': None},\n",
       " {'fct': 'xp.isnan', 'args': '(self._val)'},\n",
       " {'fct': 'xp.zeros_like', 'args': '(b)'},\n",
       " {'fct': 'xp.zeros_like', 'args': '(b)'},\n",
       " {'fct': 'xp.linalg.norm', 'args': '(r, ord=2, axis=-1, keepdims=True)'},\n",
       " {'fct': 'xp.linalg.norm', 'args': '(r, ord=2, axis=-1, keepdims=True)'},\n",
       " {'fct': 'xp.linalg.norm', 'args': '(vec)'},\n",
       " {'fct': 'xp.broadcast_to', 'args': '(self.vec, arr.shape)'},\n",
       " {'fct': 'xp.broadcast_to(', 'args': None},\n",
       " {'fct': 'xp.array', 'args': '(0, arr.dtype)'},\n",
       " {'fct': 'xp.broadcast_to(', 'args': None},\n",
       " {'fct': 'xp.array', 'args': '(0, arr.dtype)'},\n",
       " {'fct': 'xp.linalg.norm', 'args': '(data, ord=algo)'},\n",
       " {'fct': 'xp.linalg.norm', 'args': '(self.mat, ord=algo)'}]"
      ]
     },
     "execution_count": 12,
     "metadata": {},
     "output_type": "execute_result"
    }
   ],
   "source": [
    "xp_usage"
   ]
  },
  {
   "cell_type": "code",
   "execution_count": 43,
   "metadata": {},
   "outputs": [],
   "source": [
    "xp_functions = sorted(list(set([call.get(\"fct\").replace(\"xp.\",\"\").replace(\"(\",\"\") for call in xp_usage])))"
   ]
  },
  {
   "cell_type": "code",
   "execution_count": 44,
   "metadata": {},
   "outputs": [
    {
     "data": {
      "text/plain": [
       "['all if self._satisfy_all else any',\n",
       " 'array',\n",
       " 'asarray',\n",
       " 'broadcast_to',\n",
       " 'clip',\n",
       " 'concatenate',\n",
       " 'eye',\n",
       " 'isnan',\n",
       " 'linalg',\n",
       " 'linalg.norm',\n",
       " 'split',\n",
       " 'stack',\n",
       " 'sum',\n",
       " 'swapaxes',\n",
       " 'trace',\n",
       " 'zeros',\n",
       " 'zeros_like']"
      ]
     },
     "execution_count": 44,
     "metadata": {},
     "output_type": "execute_result"
    }
   ],
   "source": [
    "xp_functions"
   ]
  },
  {
   "cell_type": "code",
   "execution_count": 50,
   "metadata": {},
   "outputs": [
    {
     "name": "stdout",
     "output_type": "stream",
     "text": [
      "No implementation for 'linalg'\n",
      "No implementation for 'linalg.norm'\n"
     ]
    }
   ],
   "source": [
    "for func in xp_functions[1:]:\n",
    "    try :\n",
    "        getattr(tnp,func)\n",
    "    except :\n",
    "        print(f\"No implementation for '{func}'\")\n"
   ]
  },
  {
   "cell_type": "code",
   "execution_count": null,
   "metadata": {},
   "outputs": [],
   "source": []
  }
 ],
 "metadata": {
  "interpreter": {
   "hash": "9d24ef56d8c19a277b2227099080e197625a59f22011c95cd0a0a881a522f137"
  },
  "kernelspec": {
   "display_name": "Python 3.9.12 ('native')",
   "language": "python",
   "name": "python3"
  },
  "language_info": {
   "codemirror_mode": {
    "name": "ipython",
    "version": 3
   },
   "file_extension": ".py",
   "mimetype": "text/x-python",
   "name": "python",
   "nbconvert_exporter": "python",
   "pygments_lexer": "ipython3",
   "version": "3.9.12"
  },
  "orig_nbformat": 4
 },
 "nbformat": 4,
 "nbformat_minor": 2
}
