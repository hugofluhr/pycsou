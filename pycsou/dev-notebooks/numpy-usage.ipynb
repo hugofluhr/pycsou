{
 "cells": [
  {
   "cell_type": "code",
   "execution_count": 1,
   "metadata": {},
   "outputs": [],
   "source": [
    "import os\n",
    "import os.path as op"
   ]
  },
  {
   "cell_type": "code",
   "execution_count": 2,
   "metadata": {},
   "outputs": [],
   "source": [
    "pycsou_path = \"/Users/hugofluhr/chuv/repositories/pycsou/pycsou/\""
   ]
  },
  {
   "cell_type": "code",
   "execution_count": 13,
   "metadata": {},
   "outputs": [],
   "source": [
    "def get_python_files(dir_path):\n",
    "    python_files = []\n",
    "    for root, dirs, files in os.walk(pycsou_path):\n",
    "        for name in files:\n",
    "            if name.endswith((\".py\")):\n",
    "                file_path = op.join(root, name)\n",
    "                python_files.append(file_path)\n",
    "    return python_files\n",
    "\n",
    "def get_files_containing_string(files, string_to_find):\n",
    "    files_with_string = []\n",
    "    for file in files:\n",
    "        with open(file) as f:\n",
    "            if string_to_find in f.read() :\n",
    "                files_with_string.append(file)\n",
    "    return files_with_string"
   ]
  },
  {
   "cell_type": "code",
   "execution_count": 14,
   "metadata": {},
   "outputs": [],
   "source": [
    "python_files = get_python_files(pycsou_path)"
   ]
  },
  {
   "cell_type": "code",
   "execution_count": 26,
   "metadata": {},
   "outputs": [
    {
     "name": "stdout",
     "output_type": "stream",
     "text": [
      "5 files using numpy out of 25 python files\n"
     ]
    }
   ],
   "source": [
    "files_using_np = get_files_containing_string(python_files, \"pylops\")\n",
    "\n",
    "print(f\"{len(files_using_np)} files using numpy out of {len(python_files)} python files\")"
   ]
  },
  {
   "cell_type": "code",
   "execution_count": 25,
   "metadata": {},
   "outputs": [
    {
     "name": "stdout",
     "output_type": "stream",
     "text": [
      "number of lines using numpy = 94\n"
     ]
    }
   ],
   "source": [
    "temp_file = files_using_np[0]\n",
    "np_lines = []\n",
    "with open(temp_file) as myFile:\n",
    "    for num, line in enumerate(myFile, 1):\n",
    "        if \"np.\" in line:\n",
    "            #print(f\"line {num} >>>\" + repr(line))\n",
    "            np_lines.append(line)\n",
    "print(f\"number of lines using numpy = {len(np_lines)}\")"
   ]
  },
  {
   "cell_type": "code",
   "execution_count": 7,
   "metadata": {},
   "outputs": [
    {
     "data": {
      "text/plain": [
       "['import numpy as np\\n',\n",
       " '       import numpy as np\\n',\n",
       " '       import numpy as np\\n',\n",
       " '       import numpy as np\\n',\n",
       " '       import numpy as np\\n',\n",
       " '    # import numpy as np\\n']"
      ]
     },
     "execution_count": 7,
     "metadata": {},
     "output_type": "execute_result"
    }
   ],
   "source": [
    "np_lines"
   ]
  },
  {
   "cell_type": "code",
   "execution_count": 23,
   "metadata": {},
   "outputs": [
    {
     "data": {
      "text/plain": [
       "\"'import numpy as np\\\\n'\""
      ]
     },
     "execution_count": 23,
     "metadata": {},
     "output_type": "execute_result"
    }
   ],
   "source": [
    "repr(np_lines[0])"
   ]
  },
  {
   "cell_type": "code",
   "execution_count": 35,
   "metadata": {},
   "outputs": [],
   "source": [
    "with open(temp_file) as f:\n",
    "    file_content = f.read()"
   ]
  },
  {
   "cell_type": "code",
   "execution_count": 36,
   "metadata": {},
   "outputs": [],
   "source": [
    "import ast"
   ]
  },
  {
   "cell_type": "code",
   "execution_count": 40,
   "metadata": {},
   "outputs": [],
   "source": [
    "tree = ast.parse(file_content)"
   ]
  },
  {
   "cell_type": "code",
   "execution_count": null,
   "metadata": {},
   "outputs": [],
   "source": []
  }
 ],
 "metadata": {
  "interpreter": {
   "hash": "9d24ef56d8c19a277b2227099080e197625a59f22011c95cd0a0a881a522f137"
  },
  "kernelspec": {
   "display_name": "Python 3.9.12 ('native')",
   "language": "python",
   "name": "python3"
  },
  "language_info": {
   "codemirror_mode": {
    "name": "ipython",
    "version": 3
   },
   "file_extension": ".py",
   "mimetype": "text/x-python",
   "name": "python",
   "nbconvert_exporter": "python",
   "pygments_lexer": "ipython3",
   "version": "3.9.12"
  },
  "orig_nbformat": 4
 },
 "nbformat": 4,
 "nbformat_minor": 2
}
